{
  "nbformat": 4,
  "nbformat_minor": 0,
  "metadata": {
    "colab": {
      "provenance": [],
      "gpuType": "V28"
    },
    "kernelspec": {
      "name": "python3",
      "display_name": "Python 3"
    },
    "language_info": {
      "name": "python"
    },
    "accelerator": "TPU"
  },
  "cells": [
    {
      "cell_type": "markdown",
      "source": [
        "## Arewa Data Science Academy\n",
        "### Deep Learning Cohort1.0\n",
        "\n",
        "#### Name: Temitope Bamidele\n",
        "#### Email: bamideletemitope42@gmail.com\n",
        "#### Title: Week 1 Solution"
      ],
      "metadata": {
        "id": "Ek6-7XKb-Sdx"
      }
    },
    {
      "cell_type": "markdown",
      "source": [
        "#####\n",
        "2. create a random tensor with shape (7, 7)"
      ],
      "metadata": {
        "id": "1b3GP1-d-YWv"
      }
    },
    {
      "cell_type": "code",
      "source": [
        "import torch"
      ],
      "metadata": {
        "id": "58F9ixj39GxB"
      },
      "execution_count": 1,
      "outputs": []
    },
    {
      "cell_type": "code",
      "execution_count": 2,
      "metadata": {
        "colab": {
          "base_uri": "https://localhost:8080/"
        },
        "id": "4CU9iu4J9Eqa",
        "outputId": "35f1fffa-a3a0-420d-bb55-e5b3be81f232"
      },
      "outputs": [
        {
          "output_type": "execute_result",
          "data": {
            "text/plain": [
              "tensor([[0.7806, 0.2250, 0.4477, 0.6612, 0.8114, 0.4882, 0.5636],\n",
              "        [0.5558, 0.1170, 0.5133, 0.8325, 0.5072, 0.2592, 0.4066],\n",
              "        [0.6882, 0.0928, 0.2978, 0.1493, 0.2858, 0.1300, 0.5400],\n",
              "        [0.3433, 0.4052, 0.9103, 0.1833, 0.0037, 0.1587, 0.9017],\n",
              "        [0.4070, 0.0453, 0.6057, 0.8006, 0.2805, 0.1670, 0.0927],\n",
              "        [0.5690, 0.1335, 0.7782, 0.5772, 0.7171, 0.3413, 0.9752],\n",
              "        [0.9930, 0.5644, 0.4058, 0.1333, 0.6048, 0.8472, 0.5907]])"
            ]
          },
          "metadata": {},
          "execution_count": 2
        }
      ],
      "source": [
        "# Create random tensor\n",
        "random_tensor = torch.rand(7, 7)\n",
        "random_tensor"
      ]
    },
    {
      "cell_type": "markdown",
      "source": [
        "3. Perform a matrix multiplication on the tensor from 2 with another random tensor with shape (1, 7) (hint: you may have to transpose the second tensor)."
      ],
      "metadata": {
        "id": "cVVbGZI6_v5H"
      }
    },
    {
      "cell_type": "code",
      "source": [],
      "metadata": {
        "id": "OIZAH4uoAnfC"
      },
      "execution_count": 2,
      "outputs": []
    },
    {
      "cell_type": "code",
      "source": [
        "random_tensor_2 = torch.rand(1, 7)\n",
        "# Transposing the second random tensor\n",
        "random_tensor_2 = random_tensor_2.T"
      ],
      "metadata": {
        "id": "JvA0Ti1c_c5a"
      },
      "execution_count": 3,
      "outputs": []
    },
    {
      "cell_type": "code",
      "source": [
        "# Matrix multiplication\n",
        "torch.matmul(random_tensor, random_tensor_2)"
      ],
      "metadata": {
        "colab": {
          "base_uri": "https://localhost:8080/"
        },
        "id": "mKlurrVhATne",
        "outputId": "33d3cd24-8810-48b2-aec8-c5ebc6b33739"
      },
      "execution_count": 4,
      "outputs": [
        {
          "output_type": "execute_result",
          "data": {
            "text/plain": [
              "tensor([[2.2732],\n",
              "        [1.9242],\n",
              "        [1.0031],\n",
              "        [1.3744],\n",
              "        [1.5832],\n",
              "        [2.1036],\n",
              "        [2.2496]])"
            ]
          },
          "metadata": {},
          "execution_count": 4
        }
      ]
    },
    {
      "cell_type": "markdown",
      "source": [
        "4. Set the random seed to 0 and do 2 & 3 over again."
      ],
      "metadata": {
        "id": "1WUTtHPRCoyP"
      }
    },
    {
      "cell_type": "code",
      "source": [],
      "metadata": {
        "id": "_r_pX0BQDEhE"
      },
      "execution_count": 4,
      "outputs": []
    },
    {
      "cell_type": "code",
      "source": [
        "torch.random.manual_seed(seed=0)\n",
        "\n",
        "random_tensor = torch.rand(7, 7)\n",
        "random_tensor\n",
        "\n",
        "random_tensor_2 = torch.rand(1, 7)\n",
        "# Transposing the second random tensor\n",
        "random_tensor_2 = random_tensor_2.T\n",
        "\n",
        "# Matrix multiplication\n",
        "torch.matmul(random_tensor, random_tensor_2)"
      ],
      "metadata": {
        "colab": {
          "base_uri": "https://localhost:8080/"
        },
        "id": "SVHPjYzBBPUe",
        "outputId": "57f690b8-a115-41f4-b9c1-9b60206f52c7"
      },
      "execution_count": 5,
      "outputs": [
        {
          "output_type": "execute_result",
          "data": {
            "text/plain": [
              "tensor([[1.8542],\n",
              "        [1.9611],\n",
              "        [2.2884],\n",
              "        [3.0481],\n",
              "        [1.7067],\n",
              "        [2.5290],\n",
              "        [1.7989]])"
            ]
          },
          "metadata": {},
          "execution_count": 5
        }
      ]
    },
    {
      "cell_type": "markdown",
      "source": [
        "5. Speaking of random seeds, we saw how to set it with torch.manual_seed() but is there a GPU equivalent?"
      ],
      "metadata": {
        "id": "Ctr3gDMsDtky"
      }
    },
    {
      "cell_type": "code",
      "source": [
        "torch.cuda.is_available()"
      ],
      "metadata": {
        "colab": {
          "base_uri": "https://localhost:8080/"
        },
        "id": "asNXCIfTHGZ6",
        "outputId": "94cfbe50-ca41-4435-fb75-9395df480096"
      },
      "execution_count": 6,
      "outputs": [
        {
          "output_type": "execute_result",
          "data": {
            "text/plain": [
              "False"
            ]
          },
          "metadata": {},
          "execution_count": 6
        }
      ]
    },
    {
      "cell_type": "code",
      "source": [
        "# Set random seed on the GPU\n",
        "torch.cuda.manual_seed(1234)"
      ],
      "metadata": {
        "id": "JTQ_1Y5ODkcz"
      },
      "execution_count": 8,
      "outputs": []
    },
    {
      "cell_type": "markdown",
      "source": [
        "Create two random tensors of shape (2, 3) and send them both to the GPU (you'll need access to a GPU for this). Set torch.manual_seed(1234) when creating the tensors (this doesn't have to be the GPU random seed). The output should be something like"
      ],
      "metadata": {
        "id": "DqJPyVB6H1Gx"
      }
    },
    {
      "cell_type": "code",
      "source": [
        "if torch.cuda.is_available():\n",
        "    device = \"cuda\"\n",
        "elif torch.backends.mps.is_available():\n",
        "    device = \"mps\"\n",
        "else:\n",
        "    device = \"cpu\""
      ],
      "metadata": {
        "id": "Ka9XL--CKBHr"
      },
      "execution_count": 10,
      "outputs": []
    },
    {
      "cell_type": "code",
      "source": [
        "# setting random seed\n",
        "torch.random.manual_seed(seed=1234)\n",
        "\n",
        "# creating random tensors\n",
        "rand1 = torch.rand(2, 3)\n",
        "rand2 = torch.rand(2, 3)\n",
        "\n",
        "# Moving tensors to GPU if available\n",
        "tensor_on_gpu_1 = rand1.to(device)\n",
        "tensor_on_gpu_2 = rand2.to(device)\n",
        "\n",
        "print(tensor_on_gpu_1)\n",
        "print(tensor_on_gpu_2)"
      ],
      "metadata": {
        "colab": {
          "base_uri": "https://localhost:8080/"
        },
        "id": "bGvsVqC-HvxO",
        "outputId": "4602a983-be79-4590-a41e-5abd49e2b3a0"
      },
      "execution_count": 16,
      "outputs": [
        {
          "output_type": "stream",
          "name": "stdout",
          "text": [
            "tensor([[0.0290, 0.4019, 0.2598],\n",
            "        [0.3666, 0.0583, 0.7006]])\n",
            "tensor([[0.0518, 0.4681, 0.6738],\n",
            "        [0.3315, 0.7837, 0.5631]])\n"
          ]
        }
      ]
    },
    {
      "cell_type": "markdown",
      "source": [
        "7. Perform a matrix multiplication on the tensors you created in 6"
      ],
      "metadata": {
        "id": "I7MnYLuHK8wa"
      }
    },
    {
      "cell_type": "code",
      "source": [
        "# Transposed one of the tensors  to match the inner dimension of the other\n",
        "tensor_multiply = torch.matmul(rand1, rand2.T)\n",
        "tensor_multiply"
      ],
      "metadata": {
        "colab": {
          "base_uri": "https://localhost:8080/"
        },
        "id": "ybNifOa-JYn6",
        "outputId": "22c5f3e5-5ac7-4b2e-8226-60dbc06fa08c"
      },
      "execution_count": 17,
      "outputs": [
        {
          "output_type": "execute_result",
          "data": {
            "text/plain": [
              "tensor([[0.3647, 0.4709],\n",
              "        [0.5184, 0.5617]])"
            ]
          },
          "metadata": {},
          "execution_count": 17
        }
      ]
    },
    {
      "cell_type": "markdown",
      "source": [
        "8. Find the maximum and minimum values of the output of 7"
      ],
      "metadata": {
        "id": "6sZtAkDPLvVa"
      }
    },
    {
      "cell_type": "code",
      "source": [
        "print(f\"maximum value: {tensor_multiply.max()}\")\n",
        "print(f\"minimum value: {tensor_multiply.min()}\")"
      ],
      "metadata": {
        "colab": {
          "base_uri": "https://localhost:8080/"
        },
        "id": "UfMwJIvgLO-9",
        "outputId": "c0cfa1d0-87cf-413f-953c-1b12801483b4"
      },
      "execution_count": 21,
      "outputs": [
        {
          "output_type": "stream",
          "name": "stdout",
          "text": [
            "maximum value: 0.5617256760597229\n",
            "minimum value: 0.3647301495075226\n"
          ]
        }
      ]
    },
    {
      "cell_type": "markdown",
      "source": [
        "#### 9. Find the maximum and minimum index values of the output of 7"
      ],
      "metadata": {
        "id": "kO5ONGFaN013"
      }
    },
    {
      "cell_type": "code",
      "source": [
        "print(f\"maximum value index: {tensor_multiply.argmax()}\")\n",
        "print(f\"minimum value index: {tensor_multiply.argmin()}\")"
      ],
      "metadata": {
        "colab": {
          "base_uri": "https://localhost:8080/"
        },
        "id": "x9Hcq01FNLlG",
        "outputId": "9f36d343-8e65-4aed-d3a7-b4fa7326a8bf"
      },
      "execution_count": 22,
      "outputs": [
        {
          "output_type": "stream",
          "name": "stdout",
          "text": [
            "maximum value index: 3\n",
            "minimum value index: 0\n"
          ]
        }
      ]
    },
    {
      "cell_type": "markdown",
      "source": [
        "### 10. Make a random tensor with shape (1, 1, 1, 10) and then create a new tensor with all the 1 dimensions removed to be left with a tensor of shape (10). Set the seed to 7 when you create it and print out the first tensor and it's shape as well as the second tensor and it's shape."
      ],
      "metadata": {
        "id": "GZmcoDthQlSt"
      }
    },
    {
      "cell_type": "code",
      "source": [
        "# setting random seed\n",
        "torch.random.manual_seed(seed=7)\n",
        "rand_tensor_3 = torch.rand(1, 1, 1, 10)\n",
        "torch.reshape(rand_tensor_3, (1,10))"
      ],
      "metadata": {
        "colab": {
          "base_uri": "https://localhost:8080/"
        },
        "id": "JSPCib7eOURc",
        "outputId": "494b483a-0be8-4717-a929-75f51d469386"
      },
      "execution_count": 28,
      "outputs": [
        {
          "output_type": "execute_result",
          "data": {
            "text/plain": [
              "tensor([[0.5349, 0.1988, 0.6592, 0.6569, 0.2328, 0.4251, 0.2071, 0.6297, 0.3653,\n",
              "         0.8513]])"
            ]
          },
          "metadata": {},
          "execution_count": 28
        }
      ]
    },
    {
      "cell_type": "code",
      "source": [],
      "metadata": {
        "colab": {
          "base_uri": "https://localhost:8080/"
        },
        "id": "1RKS6ow1RDIE",
        "outputId": "de137550-c872-4709-9d3e-df1efb3d2fe3"
      },
      "execution_count": 27,
      "outputs": [
        {
          "output_type": "execute_result",
          "data": {
            "text/plain": [
              "tensor([[0.2548, 0.6294, 0.9665, 0.7399, 0.4517, 0.4757, 0.7842, 0.1525, 0.6662,\n",
              "         0.3343]])"
            ]
          },
          "metadata": {},
          "execution_count": 27
        }
      ]
    },
    {
      "cell_type": "code",
      "source": [],
      "metadata": {
        "id": "swYDqVgYRUcI"
      },
      "execution_count": null,
      "outputs": []
    }
  ]
}